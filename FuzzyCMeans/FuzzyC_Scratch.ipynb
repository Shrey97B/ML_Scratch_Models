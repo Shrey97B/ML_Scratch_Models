{
  "nbformat": 4,
  "nbformat_minor": 0,
  "metadata": {
    "colab": {
      "name": "FuzzyC_Scratch.ipynb",
      "provenance": []
    },
    "kernelspec": {
      "name": "python3",
      "display_name": "Python 3"
    },
    "language_info": {
      "name": "python"
    }
  },
  "cells": [
    {
      "cell_type": "code",
      "metadata": {
        "colab": {
          "base_uri": "https://localhost:8080/",
          "height": 1000
        },
        "id": "-cLj2rNTnPyN",
        "outputId": "e3d15fbd-30ae-4360-a050-527b3d3903a9"
      },
      "source": [
        "import matplotlib.pyplot as plt\n",
        "from matplotlib import style\n",
        "style.use('ggplot')\n",
        "import numpy as np\n",
        "import random\n",
        "import operator\n",
        "import math\n",
        "import pandas as pd\n",
        "\n",
        "X1 = pd.read_csv('Data1.csv')\n",
        "\n",
        "X = np.array(X1)\n",
        "print(X)    \n",
        "        \n",
        "#X = np.array([[3,3],[4,10],[9,6],[14,8],[18,11],[21,7]])\n",
        "print(X)\n",
        "k=3\n",
        "MAX_ITER = 100\n",
        "m = 2\n",
        "df = 2\n",
        "\n",
        "tol = 0.0001\n",
        "\n",
        "plt.scatter(X[:,0], X[:,1], s=150)\n",
        "plt.show()\n",
        "\n",
        "\n",
        "colors = 10*[\"g\",\"r\",\"c\",\"b\",\"k\"]\n",
        "\n",
        "\n",
        "def initializeMembershipMatrix():\n",
        "    membership_mat = list()\n",
        "    for i in range(len(X)):\n",
        "        random_num_list = [random.random() for i in range(k)]\n",
        "        summation = sum(random_num_list)\n",
        "        temp_list = [x/summation for x in random_num_list]\n",
        "        membership_mat.append(temp_list)\n",
        "    return membership_mat\n",
        "\n",
        "def calculateClusterCenter(membership_mat):\n",
        "    cluster_mem_val_1 = list(zip(*membership_mat))\n",
        "    cluster_mem_val=[]\n",
        "    for i in cluster_mem_val_1:\n",
        "        cluster_mem_val.append(list(i))\n",
        "    cluster_centers = list()\n",
        "    for j in range(k):\n",
        "        x = list(cluster_mem_val[j])\n",
        "        xraised = [e ** m for e in x]\n",
        "        denominator = sum(xraised)\n",
        "        temp_num = list()\n",
        "        for i in range(len(X)):\n",
        "            data_point = X[i]\n",
        "            prod = [xraised[i] * val for val in data_point]\n",
        "            temp_num.append(prod)\n",
        "        numerator = map(sum, zip(*temp_num))\n",
        "        center = [z/denominator for z in numerator]\n",
        "        cluster_centers.append(center)\n",
        "    return cluster_centers\n",
        "\n",
        "\n",
        "def updateMembershipValue(membership_mat, cluster_centers):\n",
        "    p = float(2/(m-1))\n",
        "    for i in range(len(X)):\n",
        "        x = X[i]\n",
        "        distances = [np.linalg.norm(list(map(operator.sub, x,cluster_centers[j]))) for j in range(k)]\n",
        "        for j in range(k):\n",
        "            den = sum([math.pow(float(distances[j]/distances[c]), p) for c in range(k)])\n",
        "            membership_mat[i][j] = float(1/den)       \n",
        "    return membership_mat\n",
        "\n",
        "\n",
        "def getClusters(membership_mat):\n",
        "    cluster_labels = list()\n",
        "    for i in range(len(X)):\n",
        "        max_val, idx = max((val, idx) for (idx, val) in enumerate(membership_mat[i]))\n",
        "        cluster_labels.append(idx)\n",
        "    return cluster_labels\n",
        "\n",
        "\n",
        "def fuzzyCMeansClustering():\n",
        "    # Membership Matrix\n",
        "    membership_mat = initializeMembershipMatrix()\n",
        "    curr = 0\n",
        "    prevm = np.array([[0 for i in range(len(membership_mat[j]))] for j in range(len(membership_mat))])\n",
        "    while curr <= MAX_ITER:\n",
        "        \n",
        "        prevm = np.array([[membership_mat[j][i] for i in range(len(membership_mat[j]))] for j in range(len(membership_mat))])\n",
        "        cluster_centers = calculateClusterCenter(membership_mat)\n",
        "        membership_mat = updateMembershipValue(membership_mat, cluster_centers)\n",
        "        cluster_labels = getClusters(membership_mat)\n",
        "        curr += 1\n",
        "        \n",
        "        optim = True\n",
        "        for i in range(len(membership_mat)):\n",
        "            for j in range(len(membership_mat[i])):\n",
        "                if abs(((membership_mat[i][j] - prevm[i][j])/prevm[i][j]) * 100)>tol:\n",
        "                    optim = False\n",
        "        \n",
        "        if optim == True:\n",
        "          break\n",
        "        \n",
        "    print(curr)\n",
        "        \n",
        "    return cluster_labels, cluster_centers\n",
        "    \n",
        "\n",
        "\n",
        "labels, centers = fuzzyCMeansClustering()\n",
        "print(labels)\n",
        "print(centers)\n",
        "\n",
        "tempa = np.array(centers)\n",
        "\n",
        "plt.scatter(tempa[:,0],tempa[:,1],color = 'black')\n",
        "ind=0\n",
        "\n",
        "for arr in X:\n",
        "    plt.scatter(arr[0],arr[1],marker = 'x',color = colors[labels[ind]])\n",
        "    ind=ind+1\n",
        "    \n",
        "plt.show()\n",
        "\n",
        "\n"
      ],
      "execution_count": 3,
      "outputs": [
        {
          "output_type": "stream",
          "text": [
            "[[ 2  5]\n",
            " [ 8  4]\n",
            " [ 5  8]\n",
            " [ 7  5]\n",
            " [ 6  4]\n",
            " [ 1  2]\n",
            " [ 4  9]\n",
            " [12 11]\n",
            " [22 34]\n",
            " [11 22]\n",
            " [ 3  6]\n",
            " [34 34]\n",
            " [43 45]]\n",
            "[[ 2  5]\n",
            " [ 8  4]\n",
            " [ 5  8]\n",
            " [ 7  5]\n",
            " [ 6  4]\n",
            " [ 1  2]\n",
            " [ 4  9]\n",
            " [12 11]\n",
            " [22 34]\n",
            " [11 22]\n",
            " [ 3  6]\n",
            " [34 34]\n",
            " [43 45]]\n"
          ],
          "name": "stdout"
        },
        {
          "output_type": "display_data",
          "data": {
            "image/png": "[encoded data removed]",
            "text/plain": [
              "<Figure size 432x288 with 1 Axes>"
            ]
          },
          "metadata": {
            "tags": []
          }
        },
        {
          "output_type": "stream",
          "text": [
            "101\n",
            "[2, 2, 2, 2, 2, 2, 2, 2, 1, 1, 2, 0, 0]\n",
            "[[37.70085410293704, 39.376909092295875], [14.187425004871837, 24.665806621884325], [4.98285218339124, 5.750277051105793]]\n"
          ],
          "name": "stdout"
        },
        {
          "output_type": "display_data",
          "data": {
            "image/png": "[encoded data removed]",
            "text/plain": [
              "<Figure size 432x288 with 1 Axes>"
            ]
          },
          "metadata": {
            "tags": []
          }
        }
      ]
    }
  ]
}