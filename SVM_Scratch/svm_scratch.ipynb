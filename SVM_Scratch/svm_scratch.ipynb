{
  "nbformat": 4,
  "nbformat_minor": 0,
  "metadata": {
    "colab": {
      "name": "svm_scratch.ipynb",
      "provenance": []
    },
    "kernelspec": {
      "name": "python3",
      "display_name": "Python 3"
    },
    "language_info": {
      "name": "python"
    }
  },
  "cells": [
    {
      "cell_type": "code",
      "metadata": {
        "colab": {
          "base_uri": "https://localhost:8080/",
          "height": 843
        },
        "id": "RwaaD9jJr6CR",
        "outputId": "5f4d31f3-bf56-4f96-e0c7-0c6e4c31388f"
      },
      "source": [
        "\n",
        "import matplotlib.pyplot as plt\n",
        "from matplotlib import style\n",
        "import numpy as np\n",
        "\n",
        "style.use('ggplot')\n",
        "\n",
        "def forcalc(points):\n",
        "    x = np.zeros(shape = (len(points),len(points[0]) + 1))\n",
        "\n",
        "    for i in range(len(points)):\n",
        "        x[i] = np.append(points[i],[1])\n",
        "        \n",
        "    return x\n",
        "\n",
        "\n",
        "def finddotprods(x):\n",
        "    \n",
        "    arrp = np.zeros(shape = (len(x),len(x)))\n",
        "    for i in range(len(x)):\n",
        "        for j in range(len(x)):\n",
        "            arrp[i][j] = np.dot(x[i],x[j])\n",
        "            \n",
        "    return arrp\n",
        "\n",
        "def matlineq(prod, classv):\n",
        "    mat = np.zeros(shape = (len(prod),len(prod)))\n",
        "    for i in range(len(prod)):\n",
        "        for j in range(len(prod)):\n",
        "            if i==j:\n",
        "                mat[i][j] = classv[i]*classv[j]*prod[i][j]\n",
        "            else:\n",
        "                mat[i][j] = classv[i]*classv[j] * prod[i][j]\n",
        "                \n",
        "    \n",
        "    const = np.ones(shape = (len(prod)))\n",
        "    return mat,const\n",
        "\n",
        "def find_wv(soln, classv, x):\n",
        "    weight_vect = np.zeros(shape = (len(x[0])))\n",
        "    for i in range(len(soln)):\n",
        "        weight_vect = weight_vect + soln[i]*classv[i]*x[i]\n",
        "    return weight_vect\n",
        "\n",
        "def printeq(weight_vect):\n",
        "    equ = 'Equation of line: '\n",
        "\n",
        "    for i in range(len(weight_vect)):\n",
        "\n",
        "        if weight_vect[i] >= 0 and i!=0:\n",
        "            equ = equ + ' + '\n",
        "        elif weight_vect[i]<0:\n",
        "            equ = equ + ' - '\n",
        "       \n",
        "        equ = equ + str(abs(weight_vect[i]))\n",
        "    \n",
        "        if i != len(weight_vect)-1:\n",
        "            equ = equ + str(\"X\" + str(i+1))\n",
        "\n",
        "    equ = equ + ' = 0'\n",
        "    \n",
        "    print(equ)\n",
        "    \n",
        "# main method\n",
        "points = np.array([[2,0],[0,2],[4,2],[2,4]])\n",
        "classv = np.array([-1,-1,1,1])\n",
        "\n",
        "#points = np.array([[1,0],[3,1],[3,-1]])\n",
        "#classv = np.array([-1,1,1])\n",
        "\n",
        "col_dict = {1:'r', -1:'b'}\n",
        "plt.scatter(points[:,0],points[:,1], color = [col_dict[classv[i]] for i in range(len(classv))])\n",
        "plt.show()\n",
        "\n",
        "x = forcalc(points) \n",
        "print(x)\n",
        "\n",
        "prod = finddotprods(x)\n",
        "print(prod)\n",
        "\n",
        "coeff, const = matlineq(prod,classv)\n",
        "print(coeff)\n",
        "print(const)\n",
        "\n",
        "soln = np.linalg.lstsq(coeff,const)\n",
        "soln = soln[0]\n",
        "print(soln)\n",
        "\n",
        "weight_vect = find_wv(soln,classv,x)\n",
        "print(weight_vect)\n",
        "\n",
        "printeq(weight_vect)\n",
        "\n",
        "plt.scatter(points[:,0],points[:,1], color = [col_dict[classv[i]] for i in range(len(classv))])\n",
        "if weight_vect[1] == 0:\n",
        "    plt.axvline(x = -weight_vect[2]/weight_vect[0])\n",
        "else:\n",
        "    xv = np.linspace(-10, 10, 1000)\n",
        "    yv = (-weight_vect[2] - weight_vect[0]*xv)/weight_vect[1] \n",
        "    plt.plot(xv,yv)\n",
        "plt.show()\n"
      ],
      "execution_count": 1,
      "outputs": [
        {
          "output_type": "display_data",
          "data": {
            "image/png": "[encoded data removed]",
            "text/plain": [
              "<Figure size 432x288 with 1 Axes>"
            ]
          },
          "metadata": {
            "tags": []
          }
        },
        {
          "output_type": "stream",
          "text": [
            "[[2. 0. 1.]\n",
            " [0. 2. 1.]\n",
            " [4. 2. 1.]\n",
            " [2. 4. 1.]]\n",
            "[[ 5.  1.  9.  5.]\n",
            " [ 1.  5.  5.  9.]\n",
            " [ 9.  5. 21. 17.]\n",
            " [ 5.  9. 17. 21.]]\n",
            "[[ 5.  1. -9. -5.]\n",
            " [ 1.  5. -5. -9.]\n",
            " [-9. -5. 21. 17.]\n",
            " [-5. -9. 17. 21.]]\n",
            "[1. 1. 1. 1.]\n",
            "[1.625 1.625 0.625 0.625]\n",
            "[ 0.5  0.5 -2. ]\n",
            "Equation of line: 0.5000000000000036X1 + 0.4999999999999962X2 - 1.9999999999999947 = 0\n"
          ],
          "name": "stdout"
        },
        {
          "output_type": "stream",
          "text": [
            "/usr/local/lib/python3.7/dist-packages/ipykernel_launcher.py:85: FutureWarning: `rcond` parameter will change to the default of machine precision times ``max(M, N)`` where M and N are the input matrix dimensions.\n",
            "To use the future default and silence this warning we advise to pass `rcond=None`, to keep using the old, explicitly pass `rcond=-1`.\n"
          ],
          "name": "stderr"
        },
        {
          "output_type": "display_data",
          "data": {
            "image/png": "[encoded data removed]",
            "text/plain": [
              "<Figure size 432x288 with 1 Axes>"
            ]
          },
          "metadata": {
            "tags": []
          }
        }
      ]
    }
  ]
}